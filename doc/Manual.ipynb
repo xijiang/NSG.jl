{
 "cells": [
  {
   "cell_type": "markdown",
   "metadata": {},
   "source": [
    "# Manual to NSG Julia package\n",
    "* By Xijiang Yu\n",
    "* 2020, Aug. 11\n",
    "\n",
    "## Introduction\n",
    "This new package for NSG was switched to Julia.  It is now more data focused.  This is a manule by example.  I suppose that you are in a directory called data.  The directories in this folder is as described in this manual.  You may change the relevant folder structure later.\n",
    "\n",
    "* **Note*: *This package is designed Only to run on a Linux system.*"
   ]
  },
  {
   "cell_type": "markdown",
   "metadata": {},
   "source": [
    "## Installation\n",
    "### Install Julia\n",
    "Julia is available to most Linux distributions. The latest (to date) release is version 1.5.  If the default version on your system is older than this, you can add the `nalimilan/julia` repo. Or, you can install a 0-day version:\n",
    "```bash\n",
    "git clone https://github.com/JuliaLang/julia\n",
    "cd julia\n",
    "make\n",
    "mkdir -p ~/.local/bin\n",
    "ln -s $PWD/usr/bin/julia ~/.local/bin/Julia\n",
    "```\n",
    "\n",
    "* **NB**, *I named this 0-day version as `Julia` to distinguish it to the official release.*"
   ]
  },
  {
   "cell_type": "markdown",
   "metadata": {},
   "source": [
    "### Install NSG\n",
    "```bash\n",
    "Julia\n",
    "```\n",
    "```julia\n",
    "]  # to enter the Julia package environment\n",
    "add https://github.com/xijiang/NSG.jl\n",
    "```\n",
    "Later, when you go back to the Julia REPL, or start Julia again,\n",
    "```julia\n",
    "using NSG\n",
    "```\n",
    "to load the package.  If it is the first run, the package will download the latest `plink` and `beagle.jar`.  It also compiles my C++ codes.\n",
    "\n",
    "When you want to check if new `plink` or `beagle.jar` is available:\n",
    "```julia\n",
    "NSG.Update(true)\n",
    "```"
   ]
  },
  {
   "cell_type": "markdown",
   "metadata": {},
   "source": [
    "## Data organization\n",
    "Suppose your data folder structer is as below:\n",
    "\n",
    "```\n",
    "data/\n",
    "├── idinfo\n",
    "├── maps\n",
    "└── raw\n",
    "```\n",
    "and you are in the `data` directory.  The above 3 sub-folders contain the follow information:"
   ]
  },
  {
   "cell_type": "markdown",
   "metadata": {},
   "source": [
    "### idinfo\n",
    "* id.info\n",
    "This file contains a header line. The first 6 columns are:\n",
    "  1. Herdbook_number\n",
    "  2. AnimalID\n",
    "  3. BirthYear\n",
    "  4. BreedGroup\n",
    "  5. Breed\n",
    "  6. Gender\n",
    "\n",
    "Currently, the rest of the columns are:\n",
    "\n",
    "  7. SampleID_LD\n",
    "  8. SampleID_HD\n",
    "  9. SampleID_17Kbeta\n",
    "  10. SampleID_17K\n",
    "  11. SampleID_17Kgamma"
   ]
  },
  {
   "cell_type": "markdown",
   "metadata": {},
   "source": [
    "Later, when a new platform comes, one can add another column named after this platform.  For the ID names in this column, name it `NA` if the ID is not genotyped with platform. Name it the `sample ID name` if so."
   ]
  },
  {
   "cell_type": "markdown",
   "metadata": {},
   "source": [
    "### maps\n",
    "Contains the maps for each platform.  A map file has 3 columns with no header:\n",
    "1. SNP name\n",
    "2. chromosome\n",
    "3. Base pair position.\n",
    "\n",
    "It is agreed only autosomes (1-26) are included. The SNP are ordered on chromosome number and BP position.\n",
    "\n",
    "**NB**: *One can manually manipulate the map, e.g., to remove duplicates.*"
   ]
  },
  {
   "cell_type": "markdown",
   "metadata": {},
   "source": [
    "### raw\n",
    "This folder can be structured as:\n",
    "```\n",
    "raw\n",
    "├── 8k\n",
    "├── a17k\n",
    "├── b17k\n",
    "└── c17k\n",
    "```\n",
    "Each folder contains, and only contains, result files from the same platform.  It was agreed that these files are of `GSGT` `Final report matrix design` format."
   ]
  },
  {
   "cell_type": "markdown",
   "metadata": {},
   "source": [
    "## Make a reference/training set\n",
    "NSG is now using the 17k-$\\alpha$ version as the training set.  Suppose you are in the `data` folder:\n",
    "\n",
    "### Start the NSG package\n",
    "```bash\n",
    "Julia  # to enter the Julia REPL\n",
    "```\n",
    "\n",
    "Then\n",
    "```julia\n",
    "using NSG    # to load this package.\n",
    "```\n",
    "\n",
    "### Merge the raw data\n",
    "```julia\n",
    "NSG.make_bed(\"raw/a17k\", \"maps/a17k.map\", \"idinfo/id.info\", 10, \"plk/a17k\")\n",
    "```\n",
    "This function will merge the files in `raw/a17k` into `plk/a17k.{bed,bim,fam}`.  The arguments for this function are:\n",
    "- **raw/a17k**: the folder contains the result files from 17k-$\\alpha$ platform.\n",
    "- **maps/a17k.map**: the autosome SNP map for this platform.\n",
    "- **idinfo/id.info**: see above about its description. \n",
    "- **10**: column number about whether an ID was genotyped with this plotform.\n",
    "- **plk/a17k**: base name of the result files."
   ]
  },
  {
   "cell_type": "markdown",
   "metadata": {},
   "source": [
    "### Quality control of the merged data\n",
    "```julia\n",
    "NSG.QC(\"plk/a17k\", \"tmp/a17k\")\n",
    "```\n",
    "The above function will do the quality control of dataset `plk/a17k` with the following 4 standards:\n",
    "- **geno=0.1**: SNP with more than 10% missing\n",
    "- **maf=0.01**: SNP with MAF less than 0.01\n",
    "- **hwe=0.0001**: SNP with Hardy-Weinberg equillibrium $p$-value<1e-4.\n",
    "- **mind=0.1**: ID with more than 10% genotypes missing\n",
    "\n",
    "If you want to some other standard, you can run, for example:\n",
    "```julia\n",
    "NSG.QC(\"plk/a17k\", \"tmp/a17k\", hwe=1e-10)\n",
    "```\n",
    "\n",
    "**NB**: folder `tmp` will be created if it is not there."
   ]
  },
  {
   "cell_type": "markdown",
   "metadata": {},
   "source": [
    "### Phase and impute the few missing genotypes to make a reference\n",
    "```julia\n",
    "NSG.make_ref(\"tmp/a17k\", \"ref/a17k\")\n",
    "```\n",
    "\n",
    "- `ref/a17k.vcf.gz` will be made ready as a training set for future imputations.\n",
    "- `ref/a17k.{bed,bim,fam}` will also be created for later merging purpose.\n",
    "\n",
    "**NB**: *In the future, if you want to make data from an other platform to serve as a training set, you can do similar as above.*"
   ]
  },
  {
   "cell_type": "markdown",
   "metadata": {},
   "source": [
    "## Dealing with newcomers\n",
    "Make sure that newcomers fulfill the following conditions:\n",
    "- They were from a same platform\n",
    "- They, and only they, are in a same folder\n",
    "- They should be of the same format: i.e., GSGT 2.0+.\n",
    "- Their autosome linkage map of format mentioned above is ready.\n",
    "  - Manual delete duplicates if necessary.\n",
    "  - The shared SNP between maps should betterhave the same chromosome number and base pair position.  Or a warning message is shown. The new map will be updated with reference map.\n",
    "\n",
    "Let's suppose the files are in `raw/c17k` of our current `data` folder.\n",
    "\n",
    "```julia\n",
    "NSG.check_map(\"maps/a17k.map\", \"maps/c17k.map\")\n",
    "# if the result is false\n",
    "NSG.update_map(\"maps/c17k.map\", \"maps/a17k.map\", \"maps/c17k-new.map\")\n",
    "\n",
    "NSG.make_bed(\"raw/c17k\", \"maps/c17k-new.map\", \"idinfo/id.info\", 11, \"plk/c17k\")\n",
    "NSG.QC(\"plk/c17k\", \"tmp/c17k\", hwe=1e-10)\n",
    "NSG.impute(\"tmp/c17k\", \"ref/a17k\", \"new/c17k\") #using a17k.vcf.gz as ref.\n",
    "```\n",
    "\n",
    "**NB**:\n",
    "- One can insert other QC measures before `NSG.impute()`.\n",
    "- In the `NSG.impute()` procedure, extra SNP in `tmp/c17k` were removed to make `beagle.jar` imputation possible."
   ]
  },
  {
   "cell_type": "markdown",
   "metadata": {},
   "source": [
    "## Calculate G-matrix from several datasets\n",
    "Up to now, we have two file sets:\n",
    "- `ref/a17k`\n",
    "- `new/c17k`\n",
    "\n",
    "Similarily, we can have\n",
    "- `new/8k`\n",
    "- `new/d17k`\n",
    "- $\\cdots$\n",
    "\n",
    "We can calculate a matrix with these files.\n",
    "```julia\n",
    "NSG.compute_G(\"G/result.G\", \"ref/a17k\", \"new/c17k\", add_diag=0.)\n",
    "```\n",
    "Above function will merge dataset `ref/a17k`, `new/c17k` and then calculate a **G** matrix into `G/result.G`. This is a 3-column file which can be used in `dmu`. No value, by default, is added to the diagonals. You can specify one by letting `add_diag=1e-6`, for example."
   ]
  },
  {
   "cell_type": "markdown",
   "metadata": {},
   "source": [
    "## Appendices\n",
    "### Automation of above procedure\n",
    "### Speed up G calculation\n",
    "This package use 8 threads by default to calculate **G**. If your computer has more threads availabe, e.g., 12, run:\n",
    "```julia\n",
    "NSG._nthreads = 12\n",
    "```\n",
    "before calling `NSG.compute_G`.\n",
    "### $N_e$\n",
    "Currently the $N_e$ for imputation is set as 100. You can change it to, say, 120:\n",
    "```julia\n",
    "NSG.nsNe = 120\n",
    "```\n",
    "before the imputation procedure.\n",
    "### Other issues\n",
    "- other quality control measures\n",
    "  - maybe added later"
   ]
  }
 ],
 "metadata": {
  "kernelspec": {
   "display_name": "Julia 1.6.0-DEV",
   "language": "julia",
   "name": "julia-1.6"
  },
  "language_info": {
   "file_extension": ".jl",
   "mimetype": "application/julia",
   "name": "julia",
   "version": "1.6.0"
  }
 },
 "nbformat": 4,
 "nbformat_minor": 4
}
